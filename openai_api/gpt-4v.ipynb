{
 "cells": [
  {
   "cell_type": "markdown",
   "id": "b4b6a552-b7f0-433d-9a70-61c4fcc52d5d",
   "metadata": {},
   "source": [
    "# 快速入门 GPT-4 Vison\n",
    "\n",
    "从历史上看，语言模型系统仅接受**文本**作为输入。但是单一的输入形式，限制了大模型的应用落地范围。\n",
    "\n",
    "随着技术发展，OpenAI 开发的 GPT-4 Turbo with Vision（简称 GPT-4V）允许模型接收**图像**作为输入，并回答关于它们的问题。\n",
    "\n",
    "📢注意，目前在 Assistants API 中使用 GPT-4 时还不支持图像输入。"
   ]
  },
  {
   "cell_type": "markdown",
   "id": "3a701c56-0a2a-4dea-b458-234150b84ff2",
   "metadata": {},
   "source": [
    "## 使用 GPT-4V 识别线上图像（URL）\n",
    "\n",
    "![image_sample](https://upload.wikimedia.org/wikipedia/commons/thumb/d/dd/Gfp-wisconsin-madison-the-nature-boardwalk.jpg/2560px-Gfp-wisconsin-madison-the-nature-boardwalk.jpg)"
   ]
  },
  {
   "cell_type": "code",
   "execution_count": 25,
   "id": "bf8689b2-94f2-4a35-a332-9ffed0a56aca",
   "metadata": {},
   "outputs": [
    {
     "name": "stdout",
     "output_type": "stream",
     "text": [
      "Choice(finish_reason='stop', index=0, logprobs=None, message=ChatCompletionMessage(content='这幅图展示了一条穿越湿地或草地的木制小径。图片中，木板路笔直延伸，两旁是郁郁葱葱的草地和灌木，远处可见树木和清晰的蓝天，其中夹杂着一些细小的白云。整个场景给人一种宁静和平和的感觉，是自然风光摄影中常见的主题，展现了户外探索和自然之美的元素。这样的路径可能是为了方便游客或者自然爱好者更好地探访和欣赏这片自然环境而建造的。', role='assistant', function_call=None, tool_calls=None))\n"
     ]
    }
   ],
   "source": [
    "from openai import OpenAI\n",
    "import os\n",
    "\n",
    "client = OpenAI(api_key=os.getenv('OPENAI_API_KEY'),base_url='https://api.xiaoai.plus/v1')\n",
    "\n",
    "response = client.chat.completions.create(\n",
    "  model=\"gpt-4-turbo\",\n",
    "  messages=[\n",
    "    {\n",
    "      \"role\": \"user\",\n",
    "      \"content\": [\n",
    "        {\"type\": \"text\", \"text\": \"介绍下这幅图?\"},\n",
    "        {\n",
    "          \"type\": \"image_url\",\n",
    "          \"image_url\": {\n",
    "            \"url\": \"https://upload.wikimedia.org/wikipedia/commons/thumb/d/dd/Gfp-wisconsin-madison-the-nature-boardwalk.jpg/2560px-Gfp-wisconsin-madison-the-nature-boardwalk.jpg\",\n",
    "          },\n",
    "        },\n",
    "      ],\n",
    "    }\n",
    "  ],\n",
    "  max_tokens=300,\n",
    ")\n",
    "\n",
    "print(response.choices[0])"
   ]
  },
  {
   "cell_type": "code",
   "execution_count": 26,
   "id": "9bcc9026-7485-428f-8269-ea9ae41405cb",
   "metadata": {},
   "outputs": [
    {
     "data": {
      "text/plain": [
       "'这幅图展示了一条穿越湿地或草地的木制小径。图片中，木板路笔直延伸，两旁是郁郁葱葱的草地和灌木，远处可见树木和清晰的蓝天，其中夹杂着一些细小的白云。整个场景给人一种宁静和平和的感觉，是自然风光摄影中常见的主题，展现了户外探索和自然之美的元素。这样的路径可能是为了方便游客或者自然爱好者更好地探访和欣赏这片自然环境而建造的。'"
      ]
     },
     "execution_count": 26,
     "metadata": {},
     "output_type": "execute_result"
    }
   ],
   "source": [
    "response.choices[0].message.content"
   ]
  },
  {
   "cell_type": "markdown",
   "id": "7fb50a14-fa14-4c63-9f81-b98b0f65d9d9",
   "metadata": {},
   "source": [
    "### 封装成一个函数 query_image_description"
   ]
  },
  {
   "cell_type": "code",
   "execution_count": 27,
   "id": "c1ca5428-c7e1-4d7e-91f1-d4a05e95ac51",
   "metadata": {},
   "outputs": [],
   "source": [
    "def query_image_description(url, prompt=\"介绍下这幅图?\"):\n",
    "    client = OpenAI(api_key=os.getenv('OPENAI_API_KEY'),base_url='https://api.xiaoai.plus/v1')  # 初始化 OpenAI 客户端\n",
    "    \n",
    "    # 发送请求给 OpenAI 的聊天模型\n",
    "    response = client.chat.completions.create(\n",
    "        model=\"gpt-4-turbo\",  # 指定使用的模型\n",
    "        messages=[\n",
    "            {\n",
    "                \"role\": \"user\",\n",
    "                \"content\": [\n",
    "                    {\"type\": \"text\", \"text\": prompt},\n",
    "                    {\"type\": \"image_url\", \"image_url\": {\"url\": url}},\n",
    "                ],\n",
    "            }\n",
    "        ],\n",
    "        max_tokens=300,\n",
    "    )\n",
    "    \n",
    "    # 返回模型的响应\n",
    "    return response.choices[0].message.content\n"
   ]
  },
  {
   "cell_type": "markdown",
   "id": "a0d0aceb-7cc5-4da1-b6db-e47716ba145a",
   "metadata": {},
   "source": [
    "### 调用函数测试\n",
    "\n",
    "![meme_0](https://p6.itc.cn/q_70/images03/20200602/0c267a0d3d814c9783659eb956969ba1.jpeg)"
   ]
  },
  {
   "cell_type": "code",
   "execution_count": 28,
   "id": "454abb5c-49d3-42e6-867e-f44e25af5e0e",
   "metadata": {},
   "outputs": [
    {
     "name": "stdout",
     "output_type": "stream",
     "text": [
      "这幅图是一张幽默搞笑的图片，展示了两只不同形象的柴犬。左边的柴犬被P图成一个巨大的、肌肉发达的人形身体，看起来很像超级英雄或健身达人，配文说这是“16岁的我，工作后的我”。右边的柴犬则保持了正常的狗的形态，呈现出一种憨态可掬、略显懒散的样子，显得格外可爱和无奈。\n",
      "\n",
      "这幅图片通过夸张和对比，幽默地表达了很多人在青少年时期满怀志向、精力充沛（代表左边的肌肉柴犬），而工作多年后可能变得沉闷、疲惫或失去了最初的激情和活力（代表右边的普通柴犬）。这种对比反映了社会现实和个人生活的一种普遍感\n"
     ]
    }
   ],
   "source": [
    "image_url = \"https://p6.itc.cn/q_70/images03/20200602/0c267a0d3d814c9783659eb956969ba1.jpeg\"\n",
    "content = query_image_description(image_url)\n",
    "print(content)"
   ]
  },
  {
   "cell_type": "code",
   "execution_count": null,
   "id": "2471306a-84e2-4793-b065-0741fbe57262",
   "metadata": {},
   "outputs": [],
   "source": []
  },
  {
   "cell_type": "code",
   "execution_count": null,
   "id": "af79850f-83b5-49c4-a3f3-f2c01a28f458",
   "metadata": {},
   "outputs": [],
   "source": []
  },
  {
   "cell_type": "markdown",
   "id": "63ae05bd-872c-4638-8259-df4f420aaa1d",
   "metadata": {},
   "source": [
    "### 使用 GPT-4V 识别本地图像文件（Base64编码）\n"
   ]
  },
  {
   "cell_type": "code",
   "execution_count": 29,
   "id": "1e83da68-d387-46da-8236-78fc607d1fab",
   "metadata": {},
   "outputs": [],
   "source": [
    "from openai import OpenAI\n",
    "import base64\n",
    "import requests\n",
    "import json\n",
    "\n",
    "client = OpenAI(api_key=os.getenv('OPENAI_API_KEY'),base_url='https://api.xiaoai.plus/v1')  # 初始化 OpenAI 客户端\n",
    "\n",
    "def query_base64_image_description(image_path, prompt=\"解释下图里的内容？\", max_tokens=1000):\n",
    "\n",
    "    # 实现 Base64 编码\n",
    "    def encode_image(path):\n",
    "        with open(path, \"rb\") as image_file:\n",
    "            return base64.b64encode(image_file.read()).decode('utf-8')\n",
    "\n",
    "    # 获取图像的 Base64 编码字符串\n",
    "    base64_image = encode_image(image_path)\n",
    "\n",
    "    # 构造请求的 HTTP Header\n",
    "    headers = {\n",
    "        \"Content-Type\": \"application/json\",\n",
    "        \"Authorization\": f\"Bearer {client.api_key}\"\n",
    "    }\n",
    "\n",
    "    # 构造请求的负载\n",
    "    payload = {\n",
    "        \"model\": \"gpt-4-turbo\",\n",
    "        \"messages\": [\n",
    "            {\n",
    "                \"role\": \"user\",\n",
    "                \"content\": [\n",
    "                    {\"type\": \"text\", \"text\": prompt},\n",
    "                    {\"type\": \"image_url\", \"image_url\": {\"url\": f\"data:image/jpeg;base64,{base64_image}\"}}\n",
    "                ]\n",
    "            }\n",
    "        ],\n",
    "        \"max_tokens\": max_tokens,\n",
    "    }\n",
    "\n",
    "    # 发送 HTTP 请求\n",
    "    response = requests.post(\"https://api.xiaoai.plus/v1/chat/completions\", headers=headers, json=payload)\n",
    "\n",
    "    # 检查响应并提取所需的 content 字段\n",
    "    if response.status_code == 200:\n",
    "        response_data = response.json()\n",
    "        content = response_data['choices'][0]['message']['content']\n",
    "        return content\n",
    "    else:\n",
    "        return f\"Error: {response.status_code}, {response.text}\""
   ]
  },
  {
   "cell_type": "markdown",
   "id": "89dd0f99-8086-473f-80a4-497e6dd07c17",
   "metadata": {},
   "source": [
    "#### 使用 Assistants API生成的 GDP 40年对比曲线图\n",
    "\n",
    "![gdp_data](./images/gdp_1980_2020.jpg)"
   ]
  },
  {
   "cell_type": "code",
   "execution_count": 30,
   "id": "3c0e9063-e8d9-4bc1-ae60-ad0aa5bee32b",
   "metadata": {},
   "outputs": [
    {
     "name": "stdout",
     "output_type": "stream",
     "text": [
      "这张图表展示了1980年至2020年间美国、中国、日本和德国的GDP（国内生产总值）的对比，单位为万亿美元（Trillion USD）。以下是图表的一些主要观察点：\n",
      "\n",
      "1. **美国（蓝色曲线）**：\n",
      "   - 从1980年到2020年，美国的GDP持续增长。\n",
      "   - 增长趋势大致平稳，但在2008年左右的全球金融危机期间增长速度有所放缓。\n",
      "   - 到2020年，美国的GDP超过20万亿美元。\n",
      "\n",
      "2. **中国（红色曲线）**：\n",
      "   - 从1980年到2000年，中国的GDP增长相对较慢。\n",
      "   - 从2000年开始，中国的GDP迅速增长，特别是2008年后的增速显著加快。\n",
      "   - 到2020年，中国的GDP接近15万亿美元，明显超过日本和德国，成为全球第二大经济体。\n",
      "\n",
      "3. **日本（紫色曲线）**：\n",
      "   - 1980年至1995年，日本的GDP持续增长，并在1995年左右达到峰值。\n",
      "   - 之后，日本的GDP经历了一个相对平稳或略有下降的阶段。\n",
      "   - 到2020年，日本的GDP大约保持在5万亿美元左右。\n",
      "\n",
      "4. **德国（绿色曲线）**：\n",
      "   - 1980年到2020年间，德国的GDP呈现稳定增长的趋势。\n",
      "   - 尽管增长幅度较小，但整体趋势向上。\n",
      "   - 到2020年，德国的GDP略超过4万亿美元。\n",
      "\n",
      "总体而言，这张图表展示了美国作为全球最大经济体的稳定增长，同时也突出了中国经济的快速崛起。日本和德国的经济增长较为稳定，但与中美两国相比增速较慢。\n"
     ]
    }
   ],
   "source": [
    "content = query_base64_image_description(\"./images/gdp_1980_2020.jpg\")\n",
    "print(content)"
   ]
  },
  {
   "cell_type": "markdown",
   "id": "6d18b227-32a6-4450-86bd-c99ad5c533b9",
   "metadata": {},
   "source": [
    "#### 使用 GPT-4V 识别手写体笔记\n",
    "\n",
    "![](./images/handwriting_0.jpg)"
   ]
  },
  {
   "cell_type": "code",
   "execution_count": 31,
   "id": "4193fa11-5edd-404c-9472-0cb8cc6799fc",
   "metadata": {
    "scrolled": true
   },
   "outputs": [
    {
     "name": "stdout",
     "output_type": "stream",
     "text": [
      "这张图片展示的是一本笔记本上记载的一些有关自然语言处理（NLP）中模型调整（tuning）技术的笔记。笔记主要分为几个部分，涉及到不同的调整技术和方法，主要包括：\n",
      "\n",
      "1. **Prompt Tuning**：提到了使用嵌入（embedding）的输入 \"X\" (X1, X2, ..., Xn)，通过变换矩阵 \"W\" 转换为输出 \"Y\"。这种方法通常用于少数样本中的模型微调，特别是适合小模型。\n",
      "\n",
      "2. **Prefix Tuning**：在这部分，笔记指出增加了前缀 \"Wp\" 到权重中，表示这是一种通过调整输入序列前端的方式来预训练Transformer模型的方法。\n",
      "\n",
      "3. **LoRA**（Low-Rank Adaptation）：这部分描述了通过调整权重矩阵 \"W\" 并添加一个低秩更新矩阵 \"ΔW\"，可以改变模型的行为。这里用了矩阵分解的方式来解释 \"ΔW\" = AB，其中 A 和 B 是更小的矩阵。\n",
      "\n",
      "4. 笔记底部提到了一些性能和存储需求的数据，如 \"LAMA-65TB\" 和 \"QLoRA-48GB\"，可能表示使用这些技术的不同配置或方案所需的资源。\n",
      "\n",
      "总之，这些笔记涵盖了NLP中一些先进的模型微调技术，特别是关注于减少模型调整对大量数据依赖和显著减少计算资源需求的方法。\n"
     ]
    }
   ],
   "source": [
    "content = query_base64_image_description(\"./images/handwriting_0.jpg\")\n",
    "print(content)"
   ]
  },
  {
   "cell_type": "markdown",
   "id": "ca046601-018c-455c-ace2-41392cbda456",
   "metadata": {},
   "source": [
    "#### 在 Jupyter 标准输出中渲染 Markdown 格式内容"
   ]
  },
  {
   "cell_type": "code",
   "execution_count": 32,
   "id": "516ee35b-1337-4b22-aea2-ee0adb706098",
   "metadata": {},
   "outputs": [
    {
     "data": {
      "text/markdown": [
       "这张图片展示的是一本笔记本上记载的一些有关自然语言处理（NLP）中模型调整（tuning）技术的笔记。笔记主要分为几个部分，涉及到不同的调整技术和方法，主要包括：\n",
       "\n",
       "1. **Prompt Tuning**：提到了使用嵌入（embedding）的输入 \"X\" (X1, X2, ..., Xn)，通过变换矩阵 \"W\" 转换为输出 \"Y\"。这种方法通常用于少数样本中的模型微调，特别是适合小模型。\n",
       "\n",
       "2. **Prefix Tuning**：在这部分，笔记指出增加了前缀 \"Wp\" 到权重中，表示这是一种通过调整输入序列前端的方式来预训练Transformer模型的方法。\n",
       "\n",
       "3. **LoRA**（Low-Rank Adaptation）：这部分描述了通过调整权重矩阵 \"W\" 并添加一个低秩更新矩阵 \"ΔW\"，可以改变模型的行为。这里用了矩阵分解的方式来解释 \"ΔW\" = AB，其中 A 和 B 是更小的矩阵。\n",
       "\n",
       "4. 笔记底部提到了一些性能和存储需求的数据，如 \"LAMA-65TB\" 和 \"QLoRA-48GB\"，可能表示使用这些技术的不同配置或方案所需的资源。\n",
       "\n",
       "总之，这些笔记涵盖了NLP中一些先进的模型微调技术，特别是关注于减少模型调整对大量数据依赖和显著减少计算资源需求的方法。"
      ],
      "text/plain": [
       "<IPython.core.display.Markdown object>"
      ]
     },
     "metadata": {},
     "output_type": "display_data"
    }
   ],
   "source": [
    "from IPython.display import display, Markdown\n",
    "\n",
    "# 使用 display 和 Markdown 函数显示 Markdown 内容\n",
    "display(Markdown(content))"
   ]
  },
  {
   "cell_type": "markdown",
   "id": "b72ebbe3-87cc-4867-9cf0-62e5ed684482",
   "metadata": {},
   "source": [
    "![](./images/handwriting_1.jpg)"
   ]
  },
  {
   "cell_type": "code",
   "execution_count": 33,
   "id": "7c046958-aa7a-4066-88fa-4134869d9226",
   "metadata": {},
   "outputs": [
    {
     "data": {
      "text/markdown": [
       "这张图片显示的是一本笔记本上记录的笔记内容，主要涉及自然语言处理（NLP）和机器学习中的一些技术和方法。内容主要围绕“Transformer”模型及其各种调整（Tuning）方法，包括Prompt Tuning和Adapter等技术。\n",
       "\n",
       "在左侧页面顶部，提到“一代Transformers”和“检索”，可能是在概括Transformer模型在信息检索方面的应用或进展。下面列表化了PEFT、SOTA、PFT Methods等术语，这些可能是指与预训练或微调模型相关的不同方法或标准。\n",
       "\n",
       "在右侧页面，“multi-modality Instruction FT. LLMs”可能指的是多模态指令微调的大型语言模型（Large Language Models，LLMs）。\"LILA、LOLA、GLORA、Adolora\" 可能是指具体的方法或模型名称。同时，还提到了“PETC”、“prefix-tuning & Adapters” 等术语，这些技术通常用于调整预训练模型以更好地适应特定任务或数据集。\n",
       "\n",
       "整体上，这些笔记反映了作者在理解并记录当前最新的自然语言处理技术，特别是在模型微调和适应技术方面的学习或研究进展。"
      ],
      "text/plain": [
       "<IPython.core.display.Markdown object>"
      ]
     },
     "metadata": {},
     "output_type": "display_data"
    }
   ],
   "source": [
    "content = query_base64_image_description(\"./images/handwriting_1.jpg\")\n",
    "display(Markdown(content))"
   ]
  },
  {
   "cell_type": "code",
   "execution_count": null,
   "id": "156a0f17-cca8-4f01-9ce5-53384b5ffda4",
   "metadata": {},
   "outputs": [],
   "source": []
  },
  {
   "cell_type": "code",
   "execution_count": null,
   "id": "e3bd772f-9492-4f6c-b05a-666b772ca3c9",
   "metadata": {},
   "outputs": [],
   "source": []
  },
  {
   "cell_type": "code",
   "execution_count": null,
   "id": "8afdeacb-aac1-4692-be2b-fb7957ba5e8f",
   "metadata": {},
   "outputs": [],
   "source": []
  },
  {
   "cell_type": "markdown",
   "id": "79a8d459-d98e-4215-9fbf-38ad37080475",
   "metadata": {},
   "source": [
    "## Homework: \n",
    "\n",
    "\n",
    "### #1\n",
    "\n",
    "使用 GPT-4V 识别带有手写体文字的本地图像文件，分享结果。\n",
    "\n",
    "### #2\n",
    "\n",
    "整合 `query_base64_image_description` 函数和 Markdown 格式渲染方法，使得输出结果更易阅读。"
   ]
  },
  {
   "cell_type": "markdown",
   "id": "66226682-ceba-485d-bed4-1d8297cbe925",
   "metadata": {},
   "source": [
    "![](./images/gpt-4v.jpg)"
   ]
  },
  {
   "cell_type": "code",
   "execution_count": 23,
   "id": "0909bf27-9c4a-498c-9fae-0f442062b9a8",
   "metadata": {
    "scrolled": true
   },
   "outputs": [
    {
     "data": {
      "text/markdown": [
       "上图展示了一个数学式的推导过程。解释如下：\n",
       "\n",
       "1. 原始公式是： \\((x + y + 1) \\times (x + y - 1)\\)\n",
       "2. 这通过差平方公式可以简化为: \\((x + y)^2 - 1^2\\)\n",
       "3. 进一步展开为: \\(x^2 + 2xy + y^2 - 1\\)\n",
       "\n",
       "现在，如果 \\(x = 2\\) 和 \\(y = 1\\)：\n",
       "- 将这些值代入公式 \\(x^2 + 2xy + y^2 - 1\\) 中。\n",
       "\n",
       "计算过程如下：\n",
       "1. \\(x^2 = 2^2 = 4\\)\n",
       "2. \\(2xy = 2 \\times 2 \\times 1 = 4\\)\n",
       "3. \\(y^2 = 1^2 = 1\\)\n",
       "\n",
       "所以，\\(x^2 + 2xy + y^2 - 1 = 4 + 4 + 1 - 1 = 8\\)\n",
       "\n",
       "因此，当 \\(x = 2\\) 和 \\(y = 1\\) 的时候，结果是 8。"
      ],
      "text/plain": [
       "<IPython.core.display.Markdown object>"
      ]
     },
     "metadata": {},
     "output_type": "display_data"
    }
   ],
   "source": [
    "content = query_base64_image_description(image_path=\"./images/gpt-4v.jpg\", prompt=\"请解释下图里的内容，并且当图中的X是2，y是1的时候，结果是多少？\")\n",
    "display(Markdown(content))"
   ]
  },
  {
   "cell_type": "code",
   "execution_count": null,
   "id": "fdeda7ab-f811-46ac-baa9-1c8c9e8faa3c",
   "metadata": {},
   "outputs": [],
   "source": []
  }
 ],
 "metadata": {
  "kernelspec": {
   "display_name": "langchain",
   "language": "python",
   "name": "langchain"
  },
  "language_info": {
   "codemirror_mode": {
    "name": "ipython",
    "version": 3
   },
   "file_extension": ".py",
   "mimetype": "text/x-python",
   "name": "python",
   "nbconvert_exporter": "python",
   "pygments_lexer": "ipython3",
   "version": "3.10.14"
  }
 },
 "nbformat": 4,
 "nbformat_minor": 5
}
